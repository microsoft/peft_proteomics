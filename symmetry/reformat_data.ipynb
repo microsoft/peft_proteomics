{
 "cells": [
  {
   "cell_type": "code",
   "execution_count": null,
   "metadata": {},
   "outputs": [],
   "source": [
    "# Copyright (c) Microsoft Corporation. All rights reserved.\n",
    "# Licensed under the MIT License."
   ]
  },
  {
   "cell_type": "code",
   "execution_count": 4,
   "metadata": {},
   "outputs": [],
   "source": [
    "import pandas as pd\n",
    "import pickle as pk"
   ]
  },
  {
   "cell_type": "code",
   "execution_count": null,
   "metadata": {},
   "outputs": [],
   "source": [
    "DATA_FILE = # Sequences and labels, .txt formatted -- see `data/README.md`\n",
    "SPLITS_FILE = # File containing clusters and train/validation/test splits, .pk formatted -- see `data/README.md`\n",
    "OUT_FILE = # Your output .tsv file, META_DATA_FILE in configuration files"
   ]
  },
  {
   "cell_type": "code",
   "execution_count": 6,
   "metadata": {},
   "outputs": [],
   "source": [
    "meta_data = pd.read_csv(DATA_FILE, sep=',',header=0)\n",
    "\n",
    "with open(SPLITS_FILE, 'rb') as f:\n",
    "    splits = pk.load(f)\n",
    "\n",
    "fmtd_meta_data = pd.DataFrame(columns=['id', 'sequence', 'label', 'split'])\n",
    "\n",
    "# Create data table with id, sequence, label, split\n",
    "for split_id, cluster_list in splits.items():\n",
    "    split_name = split_id.split('_')[0]\n",
    "\n",
    "    meta_split = meta_data[meta_data['CLUSTER'].isin(cluster_list)]\n",
    "    meta_split = meta_split[['CHAINID', 'SEQUENCE', 'SYMM']]\n",
    "    meta_split.loc[:,'split'] = split_name\n",
    "    meta_split.columns = ['id', 'sequence', 'label', 'split']\n",
    "    fmtd_meta_data = pd.concat([fmtd_meta_data, meta_split])\n",
    "\n",
    "fmtd_meta_data.to_csv(OUT_FILE, sep='\\t', index=False)"
   ]
  },
  {
   "cell_type": "code",
   "execution_count": 20,
   "metadata": {},
   "outputs": [],
   "source": []
  },
  {
   "cell_type": "code",
   "execution_count": 30,
   "metadata": {},
   "outputs": [],
   "source": []
  }
 ],
 "metadata": {
  "kernelspec": {
   "display_name": "RF2",
   "language": "python",
   "name": "python3"
  },
  "language_info": {
   "codemirror_mode": {
    "name": "ipython",
    "version": 3
   },
   "file_extension": ".py",
   "mimetype": "text/x-python",
   "name": "python",
   "nbconvert_exporter": "python",
   "pygments_lexer": "ipython3",
   "version": "3.8.13"
  }
 },
 "nbformat": 4,
 "nbformat_minor": 2
}
